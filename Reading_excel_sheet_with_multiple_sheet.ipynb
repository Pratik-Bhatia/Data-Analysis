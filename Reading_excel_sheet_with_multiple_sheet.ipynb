{
  "nbformat": 4,
  "nbformat_minor": 0,
  "metadata": {
    "colab": {
      "provenance": [],
      "authorship_tag": "ABX9TyN9+whGA+yHaZMUfVIDteS0",
      "include_colab_link": true
    },
    "kernelspec": {
      "name": "python3",
      "display_name": "Python 3"
    },
    "language_info": {
      "name": "python"
    }
  },
  "cells": [
    {
      "cell_type": "markdown",
      "metadata": {
        "id": "view-in-github",
        "colab_type": "text"
      },
      "source": [
        "<a href=\"https://colab.research.google.com/github/Pratik-Bhatia/Data-Analysis/blob/main/Reading_excel_sheet_with_multiple_sheet.ipynb\" target=\"_parent\"><img src=\"https://colab.research.google.com/assets/colab-badge.svg\" alt=\"Open In Colab\"/></a>"
      ]
    },
    {
      "cell_type": "code",
      "execution_count": 11,
      "metadata": {
        "colab": {
          "base_uri": "https://localhost:8080/"
        },
        "id": "LdVOMPC-Ze2n",
        "outputId": "1bfa2375-3b8b-4aca-a456-12b321cb4dcf"
      },
      "outputs": [
        {
          "output_type": "stream",
          "name": "stdout",
          "text": [
            "                                                   App        Category  \\\n",
            "0       Photo Editor & Candy Camera & Grid & ScrapBook  ART_AND_DESIGN   \n",
            "1                                  Coloring book moana  ART_AND_DESIGN   \n",
            "2    U Launcher Lite – FREE Live Cool Themes, Hide ...  ART_AND_DESIGN   \n",
            "3                                Sketch - Draw & Paint  ART_AND_DESIGN   \n",
            "4                Pixel Draw - Number Art Coloring Book  ART_AND_DESIGN   \n",
            "..                                                 ...             ...   \n",
            "245                           Xero Accounting Software        BUSINESS   \n",
            "246            MailChimp - Email, Marketing Automation        BUSINESS   \n",
            "247               Crew - Free Messaging and Scheduling        BUSINESS   \n",
            "248                      Asana: organize team projects        BUSINESS   \n",
            "249                                   Google Analytics        BUSINESS   \n",
            "\n",
            "     Rating     Installs  Type Price  Content_ID                     Genres  \\\n",
            "0       4.1      10,000+  Free     0         101               Art & Design   \n",
            "1       3.9     500,000+  Free     0         101  Art & Design;Pretend Play   \n",
            "2       4.7   5,000,000+  Free     0         101               Art & Design   \n",
            "3       4.5  50,000,000+  Free     0         102               Art & Design   \n",
            "4       4.3     100,000+  Free     0         101    Art & Design;Creativity   \n",
            "..      ...          ...   ...   ...         ...                        ...   \n",
            "245     3.5     100,000+  Free     0         101                   Business   \n",
            "246     4.1     500,000+  Free     0         101                   Business   \n",
            "247     4.6     500,000+  Free     0         101                   Business   \n",
            "248     4.3   1,000,000+  Free     0         101                   Business   \n",
            "249     4.5   1,000,000+  Free     0         101                   Business   \n",
            "\n",
            "          Last_Updated  \n",
            "0      January 7, 2018  \n",
            "1     January 15, 2018  \n",
            "2       August 1, 2018  \n",
            "3         June 8, 2018  \n",
            "4        June 20, 2018  \n",
            "..                 ...  \n",
            "245      July 30, 2018  \n",
            "246      July 25, 2018  \n",
            "247      July 20, 2018  \n",
            "248      July 26, 2018  \n",
            "249  February 13, 2018  \n",
            "\n",
            "[250 rows x 9 columns]\n",
            "           Content_Rating\n",
            "Content_ID               \n",
            "101              Everyone\n",
            "101              Everyone\n",
            "101              Everyone\n",
            "102                  Teen\n",
            "101              Everyone\n",
            "...                   ...\n",
            "101              Everyone\n",
            "101              Everyone\n",
            "101              Everyone\n",
            "101              Everyone\n",
            "101              Everyone\n",
            "\n",
            "[250 rows x 1 columns]\n"
          ]
        }
      ],
      "source": [
        "import pandas as pd\n",
        "\n",
        "data_url = 'https://github.com/ine-rmotr-projects/project-files/files/4086772/playstore.xlsx'\n",
        "\n",
        "# Read the Excel file directly into a DataFrame\n",
        "playstore_df = pd.read_excel(data_url, sheet_name='Google_playstore', index_col=0)\n",
        "content_id_df = pd.read_excel(data_url, sheet_name='Content_ID', index_col='Content_ID')\n",
        "\n",
        "print(playstore_df)\n",
        "print(content_id_df)\n"
      ]
    },
    {
      "cell_type": "code",
      "source": [],
      "metadata": {
        "id": "H550JSt-aA3p"
      },
      "execution_count": null,
      "outputs": []
    }
  ]
}